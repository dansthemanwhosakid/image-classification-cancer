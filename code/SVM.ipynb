{
 "cells": [
  {
   "cell_type": "code",
   "execution_count": 1,
   "metadata": {
    "_cell_guid": "79c7e3d0-c299-4dcb-8224-4455121ee9b0",
    "_uuid": "d629ff2d2480ee46fbb7e2d37f6b5fab8052498a"
   },
   "outputs": [],
   "source": [
    "import glob\n",
    "import pandas as pd\n",
    "import numpy as np\n",
    "from PIL import Image\n",
    "import matplotlib.pyplot as plt\n",
    "import cv2\n",
    "from sklearn.model_selection import train_test_split\n",
    "from sklearn.svm import SVC\n",
    "from sklearn.metrics import confusion_matrix, accuracy_score, recall_score, classification_report, roc_auc_score\n",
    "import random\n",
    "from skimage.feature import hog\n",
    "from skimage.io import imread\n",
    "from skimage.transform import rescale\n",
    "import skimage\n",
    "from sklearn.svm import SVC, LinearSVC\n",
    "import random"
   ]
  },
  {
   "cell_type": "code",
   "execution_count": 2,
   "metadata": {},
   "outputs": [
    {
     "data": {
      "text/plain": [
       "3977"
      ]
     },
     "execution_count": 2,
     "metadata": {},
     "output_type": "execute_result"
    }
   ],
   "source": [
    "adimuc = glob.glob(\"../kaggle/input/tumor-detection/data/ADIMUC/*\")\n",
    "strmus = glob.glob(\"../kaggle/input/tumor-detection/data/STRMUS/*\")\n",
    "tumstu = glob.glob(\"../kaggle/input/tumor-detection/data/TUMSTU/*\")\n",
    "\n",
    "\n",
    "len(adimuc)"
   ]
  },
  {
   "cell_type": "code",
   "execution_count": 3,
   "metadata": {},
   "outputs": [
    {
     "data": {
      "text/plain": [
       "11977"
      ]
     },
     "execution_count": 3,
     "metadata": {},
     "output_type": "execute_result"
    }
   ],
   "source": [
    "full_data = adimuc + strmus + tumstu\n",
    "len(full_data)"
   ]
  },
  {
   "cell_type": "code",
   "execution_count": 4,
   "metadata": {},
   "outputs": [
    {
     "data": {
      "text/plain": [
       "3000"
      ]
     },
     "execution_count": 4,
     "metadata": {},
     "output_type": "execute_result"
    }
   ],
   "source": [
    "small_data = adimuc[:1000] + strmus[:1000] + tumstu[:1000]\n",
    "len(small_data)"
   ]
  },
  {
   "cell_type": "code",
   "execution_count": 5,
   "metadata": {},
   "outputs": [
    {
     "name": "stdout",
     "output_type": "stream",
     "text": [
      "2000 images have been processed\n"
     ]
    }
   ],
   "source": [
    "X = []\n",
    "y = []\n",
    "\n",
    "\n",
    "\n",
    "for img in small_data:#full_data:\n",
    "    img_label = img.split('/')[-2]\n",
    "    y.append(img_label)\n",
    "    \n",
    "    try:\n",
    "        flattened_hog = hog(imread(img, as_gray=True), # convert to grey and turn into hog\n",
    "                                 pixels_per_cell=(12, 12), # reduces number of features. Smaller more granular hogs\n",
    "                                 cells_per_block=(2,2),\n",
    "                                 orientations=8,\n",
    "                                 block_norm='L2-Hys')\n",
    "    except:\n",
    "        print(img)\n",
    "        break\n",
    "        \n",
    "    if len(y) % 2000 == 0:\n",
    "        print(f\"{len(y)} images have been processed\")\n",
    "\n",
    "    X.append(flattened_hog)\n",
    "    \n",
    "X = np.array(X)    \n",
    "#y = np.where(np.array(y) == 'MSIMUT', 1, 0)"
   ]
  },
  {
   "cell_type": "code",
   "execution_count": 11,
   "metadata": {},
   "outputs": [],
   "source": [
    "# Y BINARY! adimuc and strmus == 0 (non cancer)\n",
    "# tumstu = cancer\n",
    "y_bin = np.where(np.array(y) == 'TUMSTU', 1, 0)"
   ]
  },
  {
   "cell_type": "code",
   "execution_count": 14,
   "metadata": {},
   "outputs": [
    {
     "data": {
      "text/plain": [
       "(3000, 53792)"
      ]
     },
     "execution_count": 14,
     "metadata": {},
     "output_type": "execute_result"
    }
   ],
   "source": [
    "X.shape"
   ]
  },
  {
   "cell_type": "code",
   "execution_count": 15,
   "metadata": {},
   "outputs": [],
   "source": [
    "def standard_scaler(a):\n",
    "    return (a-np.mean(a))/np.std(a)\n",
    "\n",
    "X = np.apply_along_axis(standard_scaler, 0, X)"
   ]
  },
  {
   "cell_type": "code",
   "execution_count": 16,
   "metadata": {},
   "outputs": [],
   "source": [
    "# Train test split\n",
    "\n",
    "X_train, X_test, y_train, y_test = train_test_split(X, \n",
    "                                                    y_bin, \n",
    "                                                    train_size = 0.7, \n",
    "                                                    random_state = 42, \n",
    "                                                    stratify = y_bin)"
   ]
  },
  {
   "cell_type": "code",
   "execution_count": null,
   "metadata": {},
   "outputs": [],
   "source": []
  },
  {
   "cell_type": "code",
   "execution_count": 28,
   "metadata": {},
   "outputs": [],
   "source": [
    "# Incremental PCA due to memory issues:\n",
    "# https://stackoverflow.com/questions/44334950/how-to-use-sklearns-incrementalpca-partial-fit\n",
    "from sklearn.decomposition import IncrementalPCA\n",
    "\n",
    "iPCA = IncrementalPCA(n_components = 10)\n",
    "\n",
    "num_rows = X_train.shape[0]\n",
    "chunk_size = 1000\n",
    "\n",
    "# FIT on Training Data\n",
    "for i in range(0, num_rows // chunk_size +1):\n",
    "    iPCA.partial_fit(X_train[i*chunk_size : (i+1)*chunk_size])\n",
    "\n",
    "# Transform Training Data\n",
    "X_train_pca = iPCA.transform(X_train[0: chunk_size])\n",
    "\n",
    "for i in range(1, num_rows // chunk_size +1):\n",
    "    transformed_chunk = iPCA.transform(X_train[i*chunk_size : (i+1)*chunk_size])\n",
    "    X_train_pca = np.concatenate((X_train_pca, transformed_chunk), axis = 0)\n",
    "    \n",
    "# Transform Test Data\n",
    "X_test_pca = iPCA.transform(X_test[0: chunk_size])\n",
    "num_rows = X_test.shape[0]\n",
    "\n",
    "for i in range(1, num_rows // chunk_size +1):\n",
    "    transformed_chunk = iPCA.transform(X_test[i*chunk_size : (i+1)*chunk_size])\n",
    "    X_test_pca = np.concatenate((X_test_pca, transformed_chunk), axis = 0)"
   ]
  },
  {
   "cell_type": "code",
   "execution_count": 29,
   "metadata": {},
   "outputs": [
    {
     "data": {
      "text/plain": [
       "0.19636914487335108"
      ]
     },
     "execution_count": 29,
     "metadata": {},
     "output_type": "execute_result"
    }
   ],
   "source": [
    "np.sum(iPCA.explained_variance_ratio_)"
   ]
  },
  {
   "cell_type": "markdown",
   "metadata": {},
   "source": [
    "### PCA HOG SVM"
   ]
  },
  {
   "cell_type": "code",
   "execution_count": 30,
   "metadata": {},
   "outputs": [
    {
     "name": "stdout",
     "output_type": "stream",
     "text": [
      "Train Accuracy: 0.8142857142857143\n",
      "Test Accuracy: 0.79\n",
      "Train Recall: 0.8557142857142858\n",
      "Test Recall: 0.8533333333333334\n",
      "Train AUC: 0.8246428571428572\n",
      "Test AUC: 0.8058333333333334\n"
     ]
    },
    {
     "name": "stderr",
     "output_type": "stream",
     "text": [
      "/opt/conda/lib/python3.7/site-packages/sklearn/svm/_base.py:977: ConvergenceWarning: Liblinear failed to converge, increase the number of iterations.\n",
      "  \"the number of iterations.\", ConvergenceWarning)\n"
     ]
    }
   ],
   "source": [
    "svc = LinearSVC(C = 0.1, tol = 0.001, random_state=42)\n",
    "\n",
    "svc.fit(X_train_pca, y_train)\n",
    "\n",
    "y_train_preds = svc.predict(X_train_pca)\n",
    "y_test_preds = svc.predict(X_test_pca)\n",
    "\n",
    "train_acc = accuracy_score(y_train, y_train_preds)\n",
    "test_acc = accuracy_score(y_test, y_test_preds)\n",
    "\n",
    "train_recall = recall_score(y_train, y_train_preds)\n",
    "test_recall = recall_score(y_test, y_test_preds)\n",
    "\n",
    "train_auc = roc_auc_score(y_train, y_train_preds)\n",
    "test_auc = roc_auc_score(y_test, y_test_preds)\n",
    "\n",
    "print(f\"Train Accuracy: {train_acc}\")\n",
    "print(f\"Test Accuracy: {test_acc}\")\n",
    "\n",
    "print(f\"Train Recall: {train_recall}\")\n",
    "print(f\"Test Recall: {test_recall}\")\n",
    "\n",
    "print(f\"Train AUC: {train_auc}\")\n",
    "print(f\"Test AUC: {test_auc}\")"
   ]
  },
  {
   "cell_type": "code",
   "execution_count": 31,
   "metadata": {},
   "outputs": [
    {
     "data": {
      "text/plain": [
       "0.19636914487335108"
      ]
     },
     "execution_count": 31,
     "metadata": {},
     "output_type": "execute_result"
    }
   ],
   "source": [
    "np.sum(iPCA.explained_variance_ratio_)"
   ]
  },
  {
   "cell_type": "code",
   "execution_count": null,
   "metadata": {},
   "outputs": [],
   "source": [
    "# 10 COMPONENNTS\n",
    "# Train Accuracy: 0.8142857142857143\n",
    "# Test Accuracy: 0.79\n",
    "# Train Recall: 0.8557142857142858\n",
    "# Test Recall: 0.8533333333333334\n",
    "# Train AUC: 0.8246428571428572\n",
    "# Test AUC: 0.8058333333333334"
   ]
  },
  {
   "cell_type": "code",
   "execution_count": 22,
   "metadata": {},
   "outputs": [
    {
     "name": "stdout",
     "output_type": "stream",
     "text": [
      "Train Accuracy: 1.0\n",
      "Test Accuracy: 0.52\n",
      "Train Recall: 1.0\n",
      "Test Recall: 0.95\n",
      "Train AUC: 1.0\n",
      "Test AUC: 0.6275\n"
     ]
    }
   ],
   "source": [
    "svc = LinearSVC(C = 0.1, tol = 0.001, random_state=42)\n",
    "\n",
    "svc.fit(X_train, y_train)\n",
    "\n",
    "y_train_preds = svc.predict(X_train)\n",
    "y_test_preds = svc.predict(X_test)\n",
    "\n",
    "train_acc = accuracy_score(y_train, y_train_preds)\n",
    "test_acc = accuracy_score(y_test, y_test_preds)\n",
    "\n",
    "train_recall = recall_score(y_train, y_train_preds)\n",
    "test_recall = recall_score(y_test, y_test_preds)\n",
    "\n",
    "train_auc = roc_auc_score(y_train, y_train_preds)\n",
    "test_auc = roc_auc_score(y_test, y_test_preds)\n",
    "\n",
    "print(f\"Train Accuracy: {train_acc}\")\n",
    "print(f\"Test Accuracy: {test_acc}\")\n",
    "\n",
    "print(f\"Train Recall: {train_recall}\")\n",
    "print(f\"Test Recall: {test_recall}\")\n",
    "\n",
    "print(f\"Train AUC: {train_auc}\")\n",
    "print(f\"Test AUC: {test_auc}\")"
   ]
  },
  {
   "cell_type": "markdown",
   "metadata": {},
   "source": [
    "### HOG SVM"
   ]
  },
  {
   "cell_type": "code",
   "execution_count": 18,
   "metadata": {},
   "outputs": [],
   "source": [
    "from sklearn.model_selection import GridSearchCV"
   ]
  },
  {
   "cell_type": "code",
   "execution_count": 19,
   "metadata": {},
   "outputs": [
    {
     "name": "stdout",
     "output_type": "stream",
     "text": [
      "Train Accuracy: 1.0\n",
      "Test Accuracy: 0.53\n",
      "Train Recall: 1.0\n",
      "Test Recall: 0.7833333333333333\n",
      "Train AUC: 1.0\n",
      "Test AUC: 0.5933333333333333\n"
     ]
    }
   ],
   "source": [
    "param_grid = {\"C\": [0.1, 1, 10, 100, 1000], \n",
    "              \"tol\": [1e-3,1e-4,1e-5]}\n",
    "\n",
    "gcv = GridSearchCV(LinearSVC(random_state=42), param_grid)\n",
    "\n",
    "gcv.fit(X_train, y_train)\n",
    "\n",
    "y_train_preds = svc.predict(X_train)\n",
    "y_test_preds = svc.predict(X_test)\n",
    "\n",
    "train_acc = accuracy_score(y_train, y_train_preds)\n",
    "test_acc = accuracy_score(y_test, y_test_preds)\n",
    "\n",
    "train_recall = recall_score(y_train, y_train_preds)\n",
    "test_recall = recall_score(y_test, y_test_preds)\n",
    "\n",
    "train_auc = roc_auc_score(y_train, y_train_preds)\n",
    "test_auc = roc_auc_score(y_test, y_test_preds)\n",
    "\n",
    "print(f\"Train Accuracy: {train_acc}\")\n",
    "print(f\"Test Accuracy: {test_acc}\")\n",
    "\n",
    "print(f\"Train Recall: {train_recall}\")\n",
    "print(f\"Test Recall: {test_recall}\")\n",
    "\n",
    "print(f\"Train AUC: {train_auc}\")\n",
    "print(f\"Test AUC: {test_auc}\")"
   ]
  },
  {
   "cell_type": "code",
   "execution_count": 20,
   "metadata": {},
   "outputs": [
    {
     "name": "stdout",
     "output_type": "stream",
     "text": [
      "LinearSVC(C=0.1, random_state=42, tol=0.001)\n"
     ]
    }
   ],
   "source": [
    "print(gcv.best_estimator_)"
   ]
  }
 ],
 "metadata": {
  "kernelspec": {
   "display_name": "Python 3",
   "language": "python",
   "name": "python3"
  },
  "language_info": {
   "codemirror_mode": {
    "name": "ipython",
    "version": 3
   },
   "file_extension": ".py",
   "mimetype": "text/x-python",
   "name": "python",
   "nbconvert_exporter": "python",
   "pygments_lexer": "ipython3",
   "version": "3.7.4"
  }
 },
 "nbformat": 4,
 "nbformat_minor": 4
}
